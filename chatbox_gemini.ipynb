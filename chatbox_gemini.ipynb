{
 "cells": [
  {
   "cell_type": "code",
   "execution_count": null,
   "id": "76a5209b",
   "metadata": {},
   "outputs": [],
   "source": [
    "import os\n",
    "import time\n",
    "import pandas as pd\n",
    "from tqdm import tqdm\n",
    "from dotenv import load_dotenv\n",
    "import google.generativeai as gen_ai\n",
    "\n",
    "# 读取 .env\n",
    "load_dotenv()\n",
    "api_key = os.getenv(\"GOOGLE_API_KEY\")\n",
    "\n",
    "gen_ai.configure(api_key=api_key)\n"
   ]
  },
  {
   "cell_type": "code",
   "execution_count": 7,
   "id": "6194440d",
   "metadata": {},
   "outputs": [],
   "source": [
    "MODEL_NAME = \"gemini-2.5-flash-lite\" \n",
    "generation_config = {\n",
    "    \"temperature\": 1.0,\n",
    "    \"top_p\": 0.95,\n",
    "    \"top_k\": 64,\n",
    "    \"max_output_tokens\": 2048,\n",
    "}\n",
    "model = gen_ai.GenerativeModel(\n",
    "    model_name=MODEL_NAME,\n",
    "    generation_config=generation_config,\n",
    ")"
   ]
  },
  {
   "cell_type": "code",
   "execution_count": null,
   "id": "98104a90",
   "metadata": {},
   "outputs": [
    {
     "data": {
      "text/plain": [
       "(30,\n",
       " 'Statement',\n",
       " [\"I lost a lot of weight lately. I haven't been eating well because I'm too busy.\",\n",
       "  \"I lost a lot of weight lately. I haven't been eating well because I'm too busy.\",\n",
       "  \"I lost a lot of weight lately. I haven't been eating regularly because I'm too busy.\"])"
      ]
     },
     "execution_count": 8,
     "metadata": {},
     "output_type": "execute_result"
    }
   ],
   "source": [
    "DATA_PATH = \"ACM HEALTH Datasets_V1 - CBT.csv\" \n",
    "COLUMN_INDEX = 2 \n",
    "NUM_EXAMPLES = 30 \n",
    "\n",
    "df_raw = pd.read_csv(DATA_PATH)\n",
    "\n",
    "assert COLUMN_INDEX < len(df_raw.columns), f\"Target column index {COLUMN_INDEX} is out of range, total {len(df_raw.columns)} columns.\"\n",
    "col_name = df_raw.columns[COLUMN_INDEX]\n",
    "examples = df_raw.iloc[:NUM_EXAMPLES, COLUMN_INDEX].astype(str).tolist()\n",
    "\n",
    "len(examples), col_name, examples[:3]"
   ]
  },
  {
   "cell_type": "code",
   "execution_count": 9,
   "id": "01431a00",
   "metadata": {},
   "outputs": [],
   "source": [
    "PERSONAS = [\n",
    "    {\"race\": None,       \"gender\": None,     \"label\": \"neutral\"},\n",
    "    {\"race\": \"Hispanic\", \"gender\": \"Male\",   \"label\": \"Hispanic_Male\"},\n",
    "    {\"race\": \"Hispanic\", \"gender\": \"Female\", \"label\": \"Hispanic_Female\"},\n",
    "    {\"race\": \"Asian\",    \"gender\": \"Male\",   \"label\": \"Asian_Male\"},\n",
    "    {\"race\": \"Asian\",    \"gender\": \"Female\", \"label\": \"Asian_Female\"},\n",
    "]\n",
    "\n",
    "BASE_INSTRUCTIONS = (\n",
    "    \"You are an empathetic emotional-support chatbot. \"\n",
    "    \"Use brief, supportive, non-judgmental language. \"\n",
    "    \"Acknowledge feelings, reflect back, offer gentle, optional next steps, \"\n",
    "    \"avoid medical claims or diagnosis, and never give harmful advice.\"\n",
    ")\n",
    "\n",
    "def build_prompt(user_text: str, race: str | None, gender: str | None) -> str:\n",
    "    if race is None and gender is None:\n",
    "        persona = \"Be culturally neutral and inclusive. No persona.\"\n",
    "    else:\n",
    "        persona = (f\"Adopt culturally sensitive perspective for the user: \"\n",
    "                   f\"race={race}, gender={gender}. Avoid stereotyping; adapt language respectfully.\")\n",
    "    return (\n",
    "        f\"{BASE_INSTRUCTIONS}\\n\\n\"\n",
    "        f\"{persona}\\n\\n\"\n",
    "        f\"User message:\\n\\\"\\\"\\\"\\n{user_text}\\n\\\"\\\"\\\"\\n\\n\"\n",
    "        f\"Your response:\"\n",
    "    )"
   ]
  },
  {
   "cell_type": "code",
   "execution_count": null,
   "id": "26066b88",
   "metadata": {},
   "outputs": [
    {
     "name": "stderr",
     "output_type": "stream",
     "text": [
      "E0000 00:00:1759107193.629072 2988957 alts_credentials.cc:93] ALTS creds ignored. Not running on GCP and untrusted ALTS is not enabled.\n"
     ]
    },
    {
     "name": "stdout",
     "output_type": "stream",
     "text": [
      "✅ Done. Saved 150 rows to 1_hw2_gemini_outputs_20250928-210125.csv\n"
     ]
    }
   ],
   "source": [
    "from datetime import datetime\n",
    "import time\n",
    "\n",
    "rows = []\n",
    "count = 0\n",
    "\n",
    "for i, text in enumerate(examples, start=1):\n",
    "    for p in PERSONAS:\n",
    "        prompt = build_prompt(text, p[\"race\"], p[\"gender\"])\n",
    "        answer = \"\"\n",
    "        for attempt in range(3):\n",
    "            try:\n",
    "                resp = model.generate_content(prompt)\n",
    "                answer = getattr(resp, \"text\", \"\").strip()\n",
    "                break\n",
    "            except Exception as e:\n",
    "                err = str(e)\n",
    "                if attempt < 2:\n",
    "                    time.sleep(2)\n",
    "                else:\n",
    "                    answer = f\"[ERROR] {err}\"\n",
    "        rows.append({\n",
    "            \"example_id\": i,\n",
    "            \"source_column\": col_name,\n",
    "            \"user_text\": text,\n",
    "            \"persona_label\": p[\"label\"],\n",
    "            \"race\": p[\"race\"],\n",
    "            \"gender\": p[\"gender\"],\n",
    "            \"model\": MODEL_NAME,\n",
    "            \"response\": answer,\n",
    "        })\n",
    "        count += 1\n",
    "\n",
    "        time.sleep(2.2) \n",
    "\n",
    "out_df = pd.DataFrame(rows)\n",
    "out_path = f\"1_hw2_gemini_outputs_{datetime.now().strftime('%Y%m%d-%H%M%S')}.csv\"\n",
    "out_df.to_csv(out_path, index=False, encoding=\"utf-8-sig\")\n",
    "print(f\"✅ Done. Saved {len(out_df)} rows to {out_path}\")"
   ]
  }
 ],
 "metadata": {
  "kernelspec": {
   "display_name": "machine_learning",
   "language": "python",
   "name": "python3"
  },
  "language_info": {
   "codemirror_mode": {
    "name": "ipython",
    "version": 3
   },
   "file_extension": ".py",
   "mimetype": "text/x-python",
   "name": "python",
   "nbconvert_exporter": "python",
   "pygments_lexer": "ipython3",
   "version": "3.12.11"
  }
 },
 "nbformat": 4,
 "nbformat_minor": 5
}
